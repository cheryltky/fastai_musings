{
  "nbformat": 4,
  "nbformat_minor": 0,
  "metadata": {
    "colab": {
      "name": "KaggleAPI_uses.ipynb",
      "provenance": [],
      "collapsed_sections": [],
      "include_colab_link": true
    },
    "kernelspec": {
      "name": "python3",
      "display_name": "Python 3"
    },
    "language_info": {
      "name": "python"
    }
  },
  "cells": [
    {
      "cell_type": "markdown",
      "metadata": {
        "id": "view-in-github",
        "colab_type": "text"
      },
      "source": [
        "<a href=\"https://colab.research.google.com/github/cheryltky/fastai_musings/blob/master/KaggleAPI_uses.ipynb\" target=\"_parent\"><img src=\"https://colab.research.google.com/assets/colab-badge.svg\" alt=\"Open In Colab\"/></a>"
      ]
    },
    {
      "cell_type": "code",
      "metadata": {
        "id": "9yvzddjru6-H",
        "colab": {
          "resources": {
            "http://localhost:8080/nbextensions/google.colab/files.js": {
              "data": "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",
              "ok": true,
              "headers": [
                [
                  "content-type",
                  "application/javascript"
                ]
              ],
              "status": 200,
              "status_text": ""
            }
          },
          "base_uri": "https://localhost:8080/",
          "height": 91
        },
        "outputId": "3589565f-e1d6-4762-bfad-07b353075e86"
      },
      "source": [
        "from google.colab import files\n",
        "files.upload()"
      ],
      "execution_count": 1,
      "outputs": [
        {
          "output_type": "display_data",
          "data": {
            "text/html": [
              "\n",
              "     <input type=\"file\" id=\"files-6fa681b9-75a1-4e9d-be40-fbac3047ec16\" name=\"files[]\" multiple disabled\n",
              "        style=\"border:none\" />\n",
              "     <output id=\"result-6fa681b9-75a1-4e9d-be40-fbac3047ec16\">\n",
              "      Upload widget is only available when the cell has been executed in the\n",
              "      current browser session. Please rerun this cell to enable.\n",
              "      </output>\n",
              "      <script src=\"/nbextensions/google.colab/files.js\"></script> "
            ],
            "text/plain": [
              "<IPython.core.display.HTML object>"
            ]
          },
          "metadata": {
            "tags": []
          }
        },
        {
          "output_type": "stream",
          "text": [
            "Saving kaggle.json to kaggle.json\n"
          ],
          "name": "stdout"
        },
        {
          "output_type": "execute_result",
          "data": {
            "text/plain": [
              "{'kaggle.json': b'{\"username\":\"cheryltky\",\"key\":\"e38a85540325a02a75ec95bedb709165\"}'}"
            ]
          },
          "metadata": {
            "tags": []
          },
          "execution_count": 1
        }
      ]
    },
    {
      "cell_type": "code",
      "metadata": {
        "id": "jWneI_VEME5n"
      },
      "source": [
        "mkdir -p /content/kaggle/"
      ],
      "execution_count": 2,
      "outputs": []
    },
    {
      "cell_type": "code",
      "metadata": {
        "colab": {
          "base_uri": "https://localhost:8080/"
        },
        "id": "VOR_xqc-iHiv",
        "outputId": "a9862c14-1495-4f42-ed08-41791ac9be38"
      },
      "source": [
        "!pwd [-LP]"
      ],
      "execution_count": 3,
      "outputs": [
        {
          "output_type": "stream",
          "text": [
            "/content\n"
          ],
          "name": "stdout"
        }
      ]
    },
    {
      "cell_type": "code",
      "metadata": {
        "id": "dg1XkGNDfx03"
      },
      "source": [
        "#move the downloaded kaggle.json file to the newly created kaggle folder\n",
        "mv /content/kaggle.json /content/kaggle/kaggle.json "
      ],
      "execution_count": 13,
      "outputs": []
    },
    {
      "cell_type": "code",
      "metadata": {
        "colab": {
          "base_uri": "https://localhost:8080/"
        },
        "id": "z9wVwxKRv_2V",
        "outputId": "396ff123-127d-4df2-f59d-eb65aa2a6494"
      },
      "source": [
        "!ls -alh kaggle.json"
      ],
      "execution_count": 57,
      "outputs": [
        {
          "output_type": "stream",
          "text": [
            "ls: cannot access 'kaggle.json': No such file or directory\n"
          ],
          "name": "stdout"
        }
      ]
    },
    {
      "cell_type": "code",
      "metadata": {
        "id": "raBruRdJwX23",
        "colab": {
          "base_uri": "https://localhost:8080/"
        },
        "outputId": "110dea09-74c1-4018-c830-88da21077147"
      },
      "source": [
        "!cp kaggle.json ~/kaggle"
      ],
      "execution_count": 54,
      "outputs": [
        {
          "output_type": "stream",
          "text": [
            "cp: cannot stat 'kaggle.json': No such file or directory\n"
          ],
          "name": "stdout"
        }
      ]
    },
    {
      "cell_type": "code",
      "metadata": {
        "colab": {
          "base_uri": "https://localhost:8080/"
        },
        "id": "0NhMoLyhwdEs",
        "outputId": "6f45a837-b01f-4d37-8997-198ee3d25ff8"
      },
      "source": [
        "!ls -la content/kaggle/*"
      ],
      "execution_count": 12,
      "outputs": [
        {
          "output_type": "stream",
          "text": [
            "ls: cannot access 'content/kaggle/': No such file or directory\n"
          ],
          "name": "stdout"
        }
      ]
    },
    {
      "cell_type": "code",
      "metadata": {
        "id": "DWbUXjlEwgOc"
      },
      "source": [
        "!chmod 600 ~/.kaggle/kaggle.json"
      ],
      "execution_count": 7,
      "outputs": []
    },
    {
      "cell_type": "code",
      "metadata": {
        "colab": {
          "base_uri": "https://localhost:8080/"
        },
        "id": "HTQbeBUfelz5",
        "outputId": "de9ba926-9196-426f-9af3-f84440349696"
      },
      "source": [
        "!pwd"
      ],
      "execution_count": 61,
      "outputs": [
        {
          "output_type": "stream",
          "text": [
            "/content/kaggle\n"
          ],
          "name": "stdout"
        }
      ]
    },
    {
      "cell_type": "code",
      "metadata": {
        "id": "7HIpCatxZUbR"
      },
      "source": [
        "# Import OS for navigation and environment set up\n",
        "import os\n",
        "# Check current location, '/content' is the Colab virtual machine\n",
        "os.getcwd()\n",
        "# Enable the Kaggle environment, use the path to the directory your Kaggle API JSON is stored in\n",
        "os.environ['KAGGLE_CONFIG_DIR'] = '../gdrive/MyDrive/kaggle'"
      ],
      "execution_count": 7,
      "outputs": []
    },
    {
      "cell_type": "code",
      "metadata": {
        "colab": {
          "base_uri": "https://localhost:8080/"
        },
        "id": "bQN0qP5jxgJH",
        "outputId": "296ddebc-3962-4345-ec3d-99b9a8c09cc8"
      },
      "source": [
        "!kaggle datasets list"
      ],
      "execution_count": 8,
      "outputs": [
        {
          "output_type": "stream",
          "text": [
            "Warning: Looks like you're using an outdated API Version, please consider updating (server 1.5.12 / client 1.5.4)\n",
            "ref                                                         title                                              size  lastUpdated          downloadCount  \n",
            "----------------------------------------------------------  ------------------------------------------------  -----  -------------------  -------------  \n",
            "gpreda/reddit-vaccine-myths                                 Reddit Vaccine Myths                              229KB  2021-05-29 17:43:56           6266  \n",
            "crowww/a-large-scale-fish-dataset                           A Large Scale Fish Dataset                          3GB  2021-04-28 17:03:01           3561  \n",
            "imsparsh/musicnet-dataset                                   MusicNet Dataset                                   22GB  2021-02-18 14:12:19           1245  \n",
            "dhruvildave/wikibooks-dataset                               Wikibooks Dataset                                   1GB  2021-02-18 10:08:27           1987  \n",
            "promptcloud/careerbuilder-job-listing-2020                  Careerbuilder Job Listing 2020                     42MB  2021-03-05 06:59:52            886  \n",
            "mathurinache/twitter-edge-nodes                             Twitter Edge Nodes                                342MB  2021-03-08 06:43:04            419  \n",
            "fatiimaezzahra/famous-iconic-women                          Famous Iconic Women                               838MB  2021-02-28 14:56:00            641  \n",
            "alsgroup/end-als                                            End ALS Kaggle Challenge                           12GB  2021-04-08 12:16:37            645  \n",
            "simiotic/github-code-snippets                               GitHub Code Snippets                                7GB  2021-03-03 11:34:39            128  \n",
            "coloradokb/dandelionimages                                  DandelionImages                                     4GB  2021-02-19 20:03:47            347  \n",
            "nickuzmenkov/nih-chest-xrays-tfrecords                      NIH Chest X-rays TFRecords                         11GB  2021-03-09 04:49:23            522  \n",
            "mathurinache/the-lj-speech-dataset                          The LJ Speech Dataset                               3GB  2021-02-15 09:19:54            155  \n",
            "stuartjames/lights                                          LightS: Light Specularity Dataset                  18GB  2021-02-18 14:32:26             59  \n",
            "imsparsh/accentdb-core-extended                             AccentDB - Core & Extended                          6GB  2021-02-17 14:22:54             70  \n",
            "nickuzmenkov/ranzcr-clip-kfold-tfrecords                    RANZCR CLiP KFold TFRecords                         2GB  2021-02-21 13:29:51             80  \n",
            "landrykezebou/lvzhdr-tone-mapping-benchmark-dataset-tmonet  LVZ-HDR Tone Mapping Benchmark Dataset (TMO-Net)   24GB  2021-03-01 05:03:40             72  \n",
            "datasnaek/youtube-new                                       Trending YouTube Video Statistics                 201MB  2019-06-03 00:56:47         140995  \n",
            "zynicide/wine-reviews                                       Wine Reviews                                       51MB  2017-11-27 17:08:04         137206  \n",
            "residentmario/ramen-ratings                                 Ramen Ratings                                      40KB  2018-01-11 16:04:39          23379  \n",
            "datasnaek/chess                                             Chess Game Dataset (Lichess)                        3MB  2017-09-04 03:09:09          18597  \n"
          ],
          "name": "stdout"
        }
      ]
    },
    {
      "cell_type": "code",
      "metadata": {
        "id": "GxLuPDU1xjb-",
        "colab": {
          "base_uri": "https://localhost:8080/"
        },
        "outputId": "489e9156-fec1-443d-eb4a-2bf104ff7fa8"
      },
      "source": [
        "!kaggle datasets download -d 'nickuzmenkov/nih-chest-xrays-tfrecords'"
      ],
      "execution_count": null,
      "outputs": [
        {
          "output_type": "stream",
          "text": [
            "Downloading nih-chest-xrays-tfrecords.zip to /content\n",
            "100% 11.1G/11.2G [02:59<00:00, 45.4MB/s]\n",
            "100% 11.2G/11.2G [02:59<00:00, 66.8MB/s]\n"
          ],
          "name": "stdout"
        }
      ]
    },
    {
      "cell_type": "code",
      "metadata": {
        "colab": {
          "base_uri": "https://localhost:8080/"
        },
        "id": "06kcIsy5jytH",
        "outputId": "0a98ce1e-eb59-47c5-91ec-42153283f849"
      },
      "source": [
        "# !sudo apt-get install unzip\n",
        "!unzip nih-chest-xrays-tfrecords.zip -d data/"
      ],
      "execution_count": null,
      "outputs": [
        {
          "output_type": "stream",
          "text": [
            "Archive:  nih-chest-xrays-tfrecords.zip\n",
            "  inflating: data/data/000-438.tfrec  \n",
            "  inflating: data/data/001-438.tfrec  \n",
            "  inflating: data/data/002-438.tfrec  \n",
            "  inflating: data/data/003-438.tfrec  \n",
            "  inflating: data/data/004-438.tfrec  \n",
            "  inflating: data/data/005-438.tfrec  \n",
            "  inflating: data/data/006-438.tfrec  \n",
            "  inflating: data/data/007-438.tfrec  \n",
            "  inflating: data/data/008-438.tfrec  \n",
            "  inflating: data/data/009-438.tfrec  \n",
            "  inflating: data/data/010-438.tfrec  \n",
            "  inflating: data/data/011-438.tfrec  \n",
            "  inflating: data/data/012-438.tfrec  \n",
            "  inflating: data/data/013-438.tfrec  \n",
            "  inflating: data/data/014-438.tfrec  \n",
            "  inflating: data/data/015-438.tfrec  \n",
            "  inflating: data/data/016-438.tfrec  \n",
            "  inflating: data/data/017-438.tfrec  \n",
            "  inflating: data/data/018-438.tfrec  \n",
            "  inflating: data/data/019-438.tfrec  \n",
            "  inflating: data/data/020-438.tfrec  \n",
            "  inflating: data/data/021-438.tfrec  \n",
            "  inflating: data/data/022-438.tfrec  \n",
            "  inflating: data/data/023-438.tfrec  \n",
            "  inflating: data/data/024-438.tfrec  \n",
            "  inflating: data/data/025-438.tfrec  \n",
            "  inflating: data/data/026-438.tfrec  \n",
            "  inflating: data/data/027-438.tfrec  \n",
            "  inflating: data/data/028-438.tfrec  \n",
            "  inflating: data/data/029-438.tfrec  \n",
            "  inflating: data/data/030-438.tfrec  \n",
            "  inflating: data/data/031-438.tfrec  \n",
            "  inflating: data/data/032-438.tfrec  \n",
            "  inflating: data/data/033-438.tfrec  \n",
            "  inflating: data/data/034-438.tfrec  \n",
            "  inflating: data/data/035-438.tfrec  \n",
            "  inflating: data/data/036-438.tfrec  \n",
            "  inflating: data/data/037-438.tfrec  \n",
            "  inflating: data/data/038-438.tfrec  \n",
            "  inflating: data/data/039-438.tfrec  \n",
            "  inflating: data/data/040-438.tfrec  \n",
            "  inflating: data/data/041-438.tfrec  \n",
            "  inflating: data/data/042-438.tfrec  \n",
            "  inflating: data/data/043-438.tfrec  \n",
            "  inflating: data/data/044-438.tfrec  \n",
            "  inflating: data/data/045-438.tfrec  \n",
            "  inflating: data/data/046-438.tfrec  \n",
            "  inflating: data/data/047-438.tfrec  \n",
            "  inflating: data/data/048-438.tfrec  \n",
            "  inflating: data/data/049-438.tfrec  \n",
            "  inflating: data/data/050-438.tfrec  \n",
            "  inflating: data/data/051-438.tfrec  \n",
            "  inflating: data/data/052-438.tfrec  \n",
            "  inflating: data/data/053-438.tfrec  \n",
            "  inflating: data/data/054-438.tfrec  \n",
            "  inflating: data/data/055-438.tfrec  \n",
            "  inflating: data/data/056-438.tfrec  \n",
            "  inflating: data/data/057-438.tfrec  \n",
            "  inflating: data/data/058-438.tfrec  \n",
            "  inflating: data/data/059-438.tfrec  \n",
            "  inflating: data/data/060-438.tfrec  \n",
            "  inflating: data/data/061-438.tfrec  \n",
            "  inflating: data/data/062-438.tfrec  \n",
            "  inflating: data/data/063-438.tfrec  \n",
            "  inflating: data/data/064-438.tfrec  \n",
            "  inflating: data/data/065-438.tfrec  \n",
            "  inflating: data/data/066-438.tfrec  \n",
            "  inflating: data/data/067-438.tfrec  \n",
            "  inflating: data/data/068-438.tfrec  \n",
            "  inflating: data/data/069-438.tfrec  \n",
            "  inflating: data/data/070-438.tfrec  \n",
            "  inflating: data/data/071-438.tfrec  \n",
            "  inflating: data/data/072-438.tfrec  \n",
            "  inflating: data/data/073-438.tfrec  \n",
            "  inflating: data/data/074-438.tfrec  \n",
            "  inflating: data/data/075-438.tfrec  \n",
            "  inflating: data/data/076-438.tfrec  \n",
            "  inflating: data/data/077-438.tfrec  \n",
            "  inflating: data/data/078-438.tfrec  \n",
            "  inflating: data/data/079-438.tfrec  \n",
            "  inflating: data/data/080-438.tfrec  \n",
            "  inflating: data/data/081-438.tfrec  \n",
            "  inflating: data/data/082-438.tfrec  \n",
            "  inflating: data/data/083-438.tfrec  \n",
            "  inflating: data/data/084-438.tfrec  \n",
            "  inflating: data/data/085-438.tfrec  \n",
            "  inflating: data/data/086-438.tfrec  \n",
            "  inflating: data/data/087-438.tfrec  \n",
            "  inflating: data/data/088-438.tfrec  \n",
            "  inflating: data/data/089-438.tfrec  \n",
            "  inflating: data/data/090-438.tfrec  \n",
            "  inflating: data/data/091-438.tfrec  \n",
            "  inflating: data/data/092-438.tfrec  \n",
            "  inflating: data/data/093-438.tfrec  \n",
            "  inflating: data/data/094-438.tfrec  \n",
            "  inflating: data/data/095-438.tfrec  \n",
            "  inflating: data/data/096-438.tfrec  \n",
            "  inflating: data/data/097-438.tfrec  \n",
            "  inflating: data/data/098-438.tfrec  \n",
            "  inflating: data/data/099-438.tfrec  \n",
            "  inflating: data/data/100-438.tfrec  \n",
            "  inflating: data/data/101-438.tfrec  \n",
            "  inflating: data/data/102-438.tfrec  \n",
            "  inflating: data/data/103-438.tfrec  \n",
            "  inflating: data/data/104-438.tfrec  \n",
            "  inflating: data/data/105-438.tfrec  \n",
            "  inflating: data/data/106-438.tfrec  \n",
            "  inflating: data/data/107-438.tfrec  \n",
            "  inflating: data/data/108-438.tfrec  \n",
            "  inflating: data/data/109-438.tfrec  \n",
            "  inflating: data/data/110-438.tfrec  \n",
            "  inflating: data/data/111-438.tfrec  \n",
            "  inflating: data/data/112-438.tfrec  \n",
            "  inflating: data/data/113-438.tfrec  \n",
            "  inflating: data/data/114-438.tfrec  \n",
            "  inflating: data/data/115-438.tfrec  \n",
            "  inflating: data/data/116-438.tfrec  \n",
            "  inflating: data/data/117-438.tfrec  \n",
            "  inflating: data/data/118-438.tfrec  \n",
            "  inflating: data/data/119-438.tfrec  \n",
            "  inflating: data/data/120-438.tfrec  \n",
            "  inflating: data/data/121-438.tfrec  \n",
            "  inflating: data/data/122-438.tfrec  \n",
            "  inflating: data/data/123-438.tfrec  \n",
            "  inflating: data/data/124-438.tfrec  \n",
            "  inflating: data/data/125-438.tfrec  \n",
            "  inflating: data/data/126-438.tfrec  \n",
            "  inflating: data/data/127-438.tfrec  \n",
            "  inflating: data/data/128-438.tfrec  \n",
            "  inflating: data/data/129-438.tfrec  \n",
            "  inflating: data/data/130-438.tfrec  \n",
            "  inflating: data/data/131-438.tfrec  \n",
            "  inflating: data/data/132-438.tfrec  \n",
            "  inflating: data/data/133-438.tfrec  \n",
            "  inflating: data/data/134-438.tfrec  \n",
            "  inflating: data/data/135-438.tfrec  \n",
            "  inflating: data/data/136-438.tfrec  \n",
            "  inflating: data/data/137-438.tfrec  \n",
            "  inflating: data/data/138-438.tfrec  \n",
            "  inflating: data/data/139-438.tfrec  \n",
            "  inflating: data/data/140-438.tfrec  \n",
            "  inflating: data/data/141-438.tfrec  \n",
            "  inflating: data/data/142-438.tfrec  \n",
            "  inflating: data/data/143-438.tfrec  \n",
            "  inflating: data/data/144-438.tfrec  \n",
            "  inflating: data/data/145-438.tfrec  \n",
            "  inflating: data/data/146-438.tfrec  \n",
            "  inflating: data/data/147-438.tfrec  \n",
            "  inflating: data/data/148-438.tfrec  \n",
            "  inflating: data/data/149-438.tfrec  \n",
            "  inflating: data/data/150-438.tfrec  \n",
            "  inflating: data/data/151-438.tfrec  \n",
            "  inflating: data/data/152-438.tfrec  \n",
            "  inflating: data/data/153-438.tfrec  \n",
            "  inflating: data/data/154-438.tfrec  \n",
            "  inflating: data/data/155-438.tfrec  \n",
            "  inflating: data/data/156-438.tfrec  \n",
            "  inflating: data/data/157-438.tfrec  \n",
            "  inflating: data/data/158-438.tfrec  \n",
            "  inflating: data/data/159-438.tfrec  \n",
            "  inflating: data/data/160-438.tfrec  \n",
            "  inflating: data/data/161-438.tfrec  \n",
            "  inflating: data/data/162-438.tfrec  \n",
            "  inflating: data/data/163-438.tfrec  \n",
            "  inflating: data/data/164-438.tfrec  \n",
            "  inflating: data/data/165-438.tfrec  \n",
            "  inflating: data/data/166-438.tfrec  \n",
            "  inflating: data/data/167-438.tfrec  \n",
            "  inflating: data/data/168-438.tfrec  \n",
            "  inflating: data/data/169-438.tfrec  \n",
            "  inflating: data/data/170-438.tfrec  \n",
            "  inflating: data/data/171-438.tfrec  \n",
            "  inflating: data/data/172-438.tfrec  \n",
            "  inflating: data/data/173-438.tfrec  \n",
            "  inflating: data/data/174-438.tfrec  \n",
            "  inflating: data/data/175-438.tfrec  \n",
            "  inflating: data/data/176-438.tfrec  \n",
            "  inflating: data/data/177-438.tfrec  \n",
            "  inflating: data/data/178-438.tfrec  \n",
            "  inflating: data/data/179-438.tfrec  \n",
            "  inflating: data/data/180-438.tfrec  \n",
            "  inflating: data/data/181-438.tfrec  \n",
            "  inflating: data/data/182-438.tfrec  \n",
            "  inflating: data/data/183-438.tfrec  \n",
            "  inflating: data/data/184-438.tfrec  \n",
            "  inflating: data/data/185-438.tfrec  \n",
            "  inflating: data/data/186-438.tfrec  \n",
            "  inflating: data/data/187-438.tfrec  \n",
            "  inflating: data/data/188-438.tfrec  \n",
            "  inflating: data/data/189-438.tfrec  \n",
            "  inflating: data/data/190-438.tfrec  \n",
            "  inflating: data/data/191-438.tfrec  \n",
            "  inflating: data/data/192-438.tfrec  \n",
            "  inflating: data/data/193-438.tfrec  \n",
            "  inflating: data/data/194-438.tfrec  \n",
            "  inflating: data/data/195-438.tfrec  \n",
            "  inflating: data/data/196-438.tfrec  \n",
            "  inflating: data/data/197-438.tfrec  \n",
            "  inflating: data/data/198-438.tfrec  \n",
            "  inflating: data/data/199-438.tfrec  \n",
            "  inflating: data/data/200-438.tfrec  \n",
            "  inflating: data/data/201-438.tfrec  \n",
            "  inflating: data/data/202-438.tfrec  \n",
            "  inflating: data/data/203-438.tfrec  \n",
            "  inflating: data/data/204-438.tfrec  \n",
            "  inflating: data/data/205-438.tfrec  \n",
            "  inflating: data/data/206-438.tfrec  \n",
            "  inflating: data/data/207-438.tfrec  \n",
            "  inflating: data/data/208-438.tfrec  \n",
            "  inflating: data/data/209-438.tfrec  \n",
            "  inflating: data/data/210-438.tfrec  \n",
            "  inflating: data/data/211-438.tfrec  \n",
            "  inflating: data/data/212-438.tfrec  \n",
            "  inflating: data/data/213-438.tfrec  \n",
            "  inflating: data/data/214-438.tfrec  \n",
            "  inflating: data/data/215-438.tfrec  \n",
            "  inflating: data/data/216-438.tfrec  \n",
            "  inflating: data/data/217-438.tfrec  \n",
            "  inflating: data/data/218-438.tfrec  \n",
            "  inflating: data/data/219-438.tfrec  \n",
            "  inflating: data/data/220-438.tfrec  \n",
            "  inflating: data/data/221-438.tfrec  \n",
            "  inflating: data/data/222-438.tfrec  \n",
            "  inflating: data/data/223-438.tfrec  \n",
            "  inflating: data/data/224-438.tfrec  \n",
            "  inflating: data/data/225-438.tfrec  \n",
            "  inflating: data/data/226-438.tfrec  \n",
            "  inflating: data/data/227-438.tfrec  \n",
            "  inflating: data/data/228-438.tfrec  \n",
            "  inflating: data/data/229-438.tfrec  \n",
            "  inflating: data/data/230-438.tfrec  \n",
            "  inflating: data/data/231-438.tfrec  \n",
            "  inflating: data/data/232-438.tfrec  \n",
            "  inflating: data/data/233-438.tfrec  \n",
            "  inflating: data/data/234-438.tfrec  \n",
            "  inflating: data/data/235-438.tfrec  \n",
            "  inflating: data/data/236-438.tfrec  \n",
            "  inflating: data/data/237-438.tfrec  \n",
            "  inflating: data/data/238-438.tfrec  \n",
            "  inflating: data/data/239-438.tfrec  \n",
            "  inflating: data/data/240-438.tfrec  \n",
            "  inflating: data/data/241-438.tfrec  \n",
            "  inflating: data/data/242-438.tfrec  \n",
            "  inflating: data/data/243-438.tfrec  \n",
            "  inflating: data/data/244-438.tfrec  \n",
            "  inflating: data/data/245-438.tfrec  \n",
            "  inflating: data/data/246-438.tfrec  \n",
            "  inflating: data/data/247-438.tfrec  \n",
            "  inflating: data/data/248-437.tfrec  \n",
            "  inflating: data/data/249-437.tfrec  \n",
            "  inflating: data/data/250-437.tfrec  \n",
            "  inflating: data/data/251-437.tfrec  \n",
            "  inflating: data/data/252-437.tfrec  \n",
            "  inflating: data/data/253-437.tfrec  \n",
            "  inflating: data/data/254-437.tfrec  \n",
            "  inflating: data/data/255-437.tfrec  \n",
            "  inflating: data/preprocessed_data.csv  \n"
          ],
          "name": "stdout"
        }
      ]
    },
    {
      "cell_type": "code",
      "metadata": {
        "colab": {
          "base_uri": "https://localhost:8080/"
        },
        "id": "0bPpiuMVv9es",
        "outputId": "d612ae0b-9356-4c1f-c1d1-8d94362e26f9"
      },
      "source": [
        "!ls -alh"
      ],
      "execution_count": null,
      "outputs": [
        {
          "output_type": "stream",
          "text": [
            "total 24K\n",
            "drwxr-xr-x 1 root root 4.0K May 29 03:30 .\n",
            "drwxr-xr-x 1 root root 4.0K May 29 03:27 ..\n",
            "drwxr-xr-x 4 root root 4.0K May  6 13:43 .config\n",
            "-rw-r--r-- 1 root root   65 May 29 03:30 kaggle.json\n",
            "drwxr-xr-x 1 root root 4.0K May 29 03:28 sample_data\n"
          ],
          "name": "stdout"
        }
      ]
    },
    {
      "cell_type": "code",
      "metadata": {
        "colab": {
          "base_uri": "https://localhost:8080/"
        },
        "id": "nFEmRhEeLNVY",
        "outputId": "e8f3c442-5933-4f88-f8e6-c9305480ce95"
      },
      "source": [
        "!find /content/ -iname *kaggle*.json\n"
      ],
      "execution_count": 9,
      "outputs": [
        {
          "output_type": "stream",
          "text": [
            "/content/kaggle.json\n"
          ],
          "name": "stdout"
        }
      ]
    }
  ]
}